{
  "cells": [
    {
      "cell_type": "markdown",
      "source": [
        "# Lecture Link - https://www.youtube.com/watch?v=MMEoEJIXd7E&list=PLl1irxoYh2wzOOU9hvJqMYc215wAlxrpp\n",
        "\n",
        "# Code - https://github.com/blackdew/ml-tensorflow\n"
      ],
      "metadata": {
        "id": "EgSKf_5X_THV"
      },
      "id": "EgSKf_5X_THV"
    },
    {
      "cell_type": "markdown",
      "id": "indirect-humor",
      "metadata": {
        "id": "indirect-humor"
      },
      "source": [
        "# Sample imageset exercise"
      ]
    },
    {
      "cell_type": "code",
      "execution_count": null,
      "id": "miniature-postcard",
      "metadata": {
        "id": "miniature-postcard",
        "outputId": "6b685e03-ed4f-42fe-d8ba-035bfc0471ff"
      },
      "outputs": [
        {
          "name": "stdout",
          "output_type": "stream",
          "text": [
            "(60000, 28, 28) (60000,)\n",
            "(50000, 32, 32, 3) (50000, 1)\n"
          ]
        }
      ],
      "source": [
        "import pandas as pd\n",
        "import seaborn as sns\n",
        "import matplotlib.pyplot as plt\n",
        "import numpy as np\n",
        "import tensorflow as tf\n",
        "import ssl\n",
        "ssl._create_default_https_context = ssl._create_unverified_context\n",
        "\n",
        "# 이미지셋 가져오기\n",
        "(mnist_x, mnist_y), _ = tf.keras.datasets.mnist.load_data()\n",
        "print(mnist_x.shape, mnist_y.shape)\n",
        "\n",
        "(cifar_x, cifar_y), _ = tf.keras.datasets.cifar10.load_data()\n",
        "print(cifar_x.shape, cifar_y.shape)"
      ]
    },
    {
      "cell_type": "code",
      "execution_count": null,
      "id": "micro-credit",
      "metadata": {
        "id": "micro-credit",
        "outputId": "1851c4d9-b34a-4c4d-c73f-2e8bf4d64673"
      },
      "outputs": [
        {
          "name": "stdout",
          "output_type": "stream",
          "text": [
            "[5 0 4 ... 5 6 8]\n"
          ]
        },
        {
          "data": {
            "text/plain": [
              "<matplotlib.image.AxesImage at 0x1a270f4ccd0>"
            ]
          },
          "execution_count": 4,
          "metadata": {},
          "output_type": "execute_result"
        },
        {
          "data": {
            "image/png": "[encoded data removed]",
            "text/plain": [
              "<Figure size 432x288 with 1 Axes>"
            ]
          },
          "metadata": {
            "needs_background": "light"
          },
          "output_type": "display_data"
        }
      ],
      "source": [
        "print(mnist_y)\n",
        "\n",
        "plt.imshow(mnist_x[3],cmap='gray')"
      ]
    },
    {
      "cell_type": "code",
      "execution_count": null,
      "id": "reasonable-stand",
      "metadata": {
        "id": "reasonable-stand",
        "outputId": "faf7f64d-b0ec-49c2-8c3a-d0ef2025273d"
      },
      "outputs": [
        {
          "name": "stdout",
          "output_type": "stream",
          "text": [
            "[[6]\n",
            " [9]\n",
            " [9]\n",
            " ...\n",
            " [9]\n",
            " [1]\n",
            " [1]]\n"
          ]
        },
        {
          "data": {
            "text/plain": [
              "<matplotlib.image.AxesImage at 0x116c159bdf0>"
            ]
          },
          "execution_count": 16,
          "metadata": {},
          "output_type": "execute_result"
        },
        {
          "data": {
            "image/png": "[encoded data removed]",
            "text/plain": [
              "<Figure size 432x288 with 1 Axes>"
            ]
          },
          "metadata": {
            "needs_background": "light"
          },
          "output_type": "display_data"
        }
      ],
      "source": [
        "print(cifar_y)\n",
        "\n",
        "plt.imshow(cifar_x[6])"
      ]
    },
    {
      "cell_type": "code",
      "execution_count": null,
      "id": "acceptable-paragraph",
      "metadata": {
        "id": "acceptable-paragraph",
        "outputId": "b492fe19-b9d6-42ad-e995-ddce8ff5870f"
      },
      "outputs": [
        {
          "name": "stdout",
          "output_type": "stream",
          "text": [
            "(4, 5)\n"
          ]
        },
        {
          "data": {
            "text/plain": [
              "(3, 4, 5)"
            ]
          },
          "execution_count": 13,
          "metadata": {},
          "output_type": "execute_result"
        }
      ],
      "source": [
        "d1 = np.array([1,2,3,4,5])\n",
        "d2 = np.array([d1,d1,d1,d1])\n",
        "print(d2.shape)\n",
        "d3 = np.array([d2,d2,d2])\n",
        "d3.shape"
      ]
    },
    {
      "cell_type": "code",
      "execution_count": null,
      "id": "statutory-tennis",
      "metadata": {
        "id": "statutory-tennis",
        "outputId": "5551ba3f-0fd8-45b6-c248-15c376511684"
      },
      "outputs": [
        {
          "name": "stdout",
          "output_type": "stream",
          "text": [
            "(60000,)\n",
            "(50000, 1)\n"
          ]
        }
      ],
      "source": [
        "print(mnist_y.shape)\n",
        "print(cifar_y.shape)"
      ]
    },
    {
      "cell_type": "code",
      "execution_count": null,
      "id": "alien-inquiry",
      "metadata": {
        "id": "alien-inquiry",
        "outputId": "a96cf216-e322-4880-8f97-03c571d3e84c"
      },
      "outputs": [
        {
          "name": "stdout",
          "output_type": "stream",
          "text": [
            "[[6]\n",
            " [9]\n",
            " [9]\n",
            " ...\n",
            " [9]\n",
            " [1]\n",
            " [1]]\n"
          ]
        }
      ],
      "source": [
        "print(cifar_y)\n"
      ]
    },
    {
      "cell_type": "code",
      "execution_count": null,
      "id": "important-bathroom",
      "metadata": {
        "id": "important-bathroom",
        "outputId": "5e706786-3a66-4448-9f79-deb6bddaa71e"
      },
      "outputs": [
        {
          "name": "stdout",
          "output_type": "stream",
          "text": [
            "[5 0 4 ... 5 6 8]\n"
          ]
        }
      ],
      "source": [
        "print(mnist_y)"
      ]
    },
    {
      "cell_type": "markdown",
      "id": "single-termination",
      "metadata": {
        "id": "single-termination"
      },
      "source": [
        "# Flatten"
      ]
    },
    {
      "cell_type": "markdown",
      "id": "invalid-chance",
      "metadata": {
        "id": "invalid-chance"
      },
      "source": [
        "## without flatten"
      ]
    },
    {
      "cell_type": "code",
      "execution_count": null,
      "id": "material-stanford",
      "metadata": {
        "id": "material-stanford",
        "outputId": "e4186208-244d-4611-ae90-405819bd715f"
      },
      "outputs": [
        {
          "name": "stdout",
          "output_type": "stream",
          "text": [
            "(60000, 28, 28) (60000,)\n"
          ]
        }
      ],
      "source": [
        "(ind, dep), _ = tf.keras.datasets.mnist.load_data()\n",
        "print(ind.shape, dep.shape)"
      ]
    },
    {
      "cell_type": "code",
      "execution_count": null,
      "id": "separate-currency",
      "metadata": {
        "id": "separate-currency",
        "outputId": "8ea2a955-ec9c-4f46-dce4-914fc89a33b4"
      },
      "outputs": [
        {
          "name": "stdout",
          "output_type": "stream",
          "text": [
            "(60000, 784) (60000, 10)\n"
          ]
        }
      ],
      "source": [
        "# reshape\n",
        "ind = ind.reshape(60000,784)\n",
        "dep = pd.get_dummies(dep)  # 원핫 인코딩\n",
        "print(ind.shape, dep.shape)"
      ]
    },
    {
      "cell_type": "code",
      "execution_count": null,
      "id": "accessory-little",
      "metadata": {
        "id": "accessory-little"
      },
      "outputs": [],
      "source": [
        "# 모델 만들기\n",
        "X = tf.keras.layers.Input(shape=[784])\n",
        "H = tf.keras.layers.Dense(84,activation = 'swish')(X)\n",
        "Y = tf.keras.layers.Dense(10, activation = 'softmax')(H)\n",
        "model = tf.keras.models.Model(X,Y)\n",
        "model.compile(loss='categorical_crossentropy', metrics = 'accuracy')"
      ]
    },
    {
      "cell_type": "code",
      "execution_count": null,
      "id": "moderate-architect",
      "metadata": {
        "id": "moderate-architect",
        "outputId": "c76a8921-7dcb-4f5a-a6a7-2b2361028b15"
      },
      "outputs": [
        {
          "name": "stdout",
          "output_type": "stream",
          "text": [
            "Epoch 1/10\n",
            "1875/1875 [==============================] - 3s 1ms/step - loss: 2.9123 - accuracy: 0.8571\n",
            "Epoch 2/10\n",
            "1875/1875 [==============================] - 2s 907us/step - loss: 0.5548 - accuracy: 0.9156\n",
            "Epoch 3/10\n",
            "1875/1875 [==============================] - 2s 835us/step - loss: 0.4770 - accuracy: 0.9304\n",
            "Epoch 4/10\n",
            "1875/1875 [==============================] - 2s 917us/step - loss: 0.4299 - accuracy: 0.93840s - loss: 0.4233 - accuracy\n",
            "Epoch 5/10\n",
            "1875/1875 [==============================] - 2s 872us/step - loss: 0.4158 - accuracy: 0.9422\n",
            "Epoch 6/10\n",
            "1875/1875 [==============================] - 2s 845us/step - loss: 0.4051 - accuracy: 0.9431\n",
            "Epoch 7/10\n",
            "1875/1875 [==============================] - 2s 923us/step - loss: 0.3695 - accuracy: 0.9452\n",
            "Epoch 8/10\n",
            "1875/1875 [==============================] - 2s 949us/step - loss: 0.3755 - accuracy: 0.9466\n",
            "Epoch 9/10\n",
            "1875/1875 [==============================] - 2s 914us/step - loss: 0.3703 - accuracy: 0.9498\n",
            "Epoch 10/10\n",
            "1875/1875 [==============================] - 2s 849us/step - loss: 0.3658 - accuracy: 0.9499\n"
          ]
        },
        {
          "data": {
            "text/plain": [
              "<tensorflow.python.keras.callbacks.History at 0x1a271473b50>"
            ]
          },
          "execution_count": 19,
          "metadata": {},
          "output_type": "execute_result"
        }
      ],
      "source": [
        "# 모델 학습\n",
        "model.fit(ind,dep,epochs=10)"
      ]
    },
    {
      "cell_type": "code",
      "execution_count": null,
      "id": "multiple-extent",
      "metadata": {
        "id": "multiple-extent",
        "outputId": "b46b4b70-e602-42bf-ea17-53327c3f686b"
      },
      "outputs": [
        {
          "data": {
            "text/html": [
              "<div>\n",
              "<style scoped>\n",
              "    .dataframe tbody tr th:only-of-type {\n",
              "        vertical-align: middle;\n",
              "    }\n",
              "\n",
              "    .dataframe tbody tr th {\n",
              "        vertical-align: top;\n",
              "    }\n",
              "\n",
              "    .dataframe thead th {\n",
              "        text-align: right;\n",
              "    }\n",
              "</style>\n",
              "<table border=\"1\" class=\"dataframe\">\n",
              "  <thead>\n",
              "    <tr style=\"text-align: right;\">\n",
              "      <th></th>\n",
              "      <th>0</th>\n",
              "      <th>1</th>\n",
              "      <th>2</th>\n",
              "      <th>3</th>\n",
              "      <th>4</th>\n",
              "      <th>5</th>\n",
              "      <th>6</th>\n",
              "      <th>7</th>\n",
              "      <th>8</th>\n",
              "      <th>9</th>\n",
              "    </tr>\n",
              "  </thead>\n",
              "  <tbody>\n",
              "    <tr>\n",
              "      <th>0</th>\n",
              "      <td>0.0</td>\n",
              "      <td>0.0</td>\n",
              "      <td>0.0</td>\n",
              "      <td>0.0</td>\n",
              "      <td>0.0</td>\n",
              "      <td>1.0</td>\n",
              "      <td>0.0</td>\n",
              "      <td>0.00000</td>\n",
              "      <td>0.0</td>\n",
              "      <td>0.00000</td>\n",
              "    </tr>\n",
              "    <tr>\n",
              "      <th>1</th>\n",
              "      <td>1.0</td>\n",
              "      <td>0.0</td>\n",
              "      <td>0.0</td>\n",
              "      <td>0.0</td>\n",
              "      <td>0.0</td>\n",
              "      <td>0.0</td>\n",
              "      <td>0.0</td>\n",
              "      <td>0.00000</td>\n",
              "      <td>0.0</td>\n",
              "      <td>0.00000</td>\n",
              "    </tr>\n",
              "    <tr>\n",
              "      <th>2</th>\n",
              "      <td>0.0</td>\n",
              "      <td>0.0</td>\n",
              "      <td>0.0</td>\n",
              "      <td>0.0</td>\n",
              "      <td>1.0</td>\n",
              "      <td>0.0</td>\n",
              "      <td>0.0</td>\n",
              "      <td>0.00000</td>\n",
              "      <td>0.0</td>\n",
              "      <td>0.00000</td>\n",
              "    </tr>\n",
              "    <tr>\n",
              "      <th>3</th>\n",
              "      <td>0.0</td>\n",
              "      <td>1.0</td>\n",
              "      <td>0.0</td>\n",
              "      <td>0.0</td>\n",
              "      <td>0.0</td>\n",
              "      <td>0.0</td>\n",
              "      <td>0.0</td>\n",
              "      <td>0.00000</td>\n",
              "      <td>0.0</td>\n",
              "      <td>0.00000</td>\n",
              "    </tr>\n",
              "    <tr>\n",
              "      <th>4</th>\n",
              "      <td>0.0</td>\n",
              "      <td>0.0</td>\n",
              "      <td>0.0</td>\n",
              "      <td>0.0</td>\n",
              "      <td>0.0</td>\n",
              "      <td>0.0</td>\n",
              "      <td>0.0</td>\n",
              "      <td>0.00001</td>\n",
              "      <td>0.0</td>\n",
              "      <td>0.99999</td>\n",
              "    </tr>\n",
              "  </tbody>\n",
              "</table>\n",
              "</div>"
            ],
            "text/plain": [
              "     0    1    2    3    4    5    6        7    8        9\n",
              "0  0.0  0.0  0.0  0.0  0.0  1.0  0.0  0.00000  0.0  0.00000\n",
              "1  1.0  0.0  0.0  0.0  0.0  0.0  0.0  0.00000  0.0  0.00000\n",
              "2  0.0  0.0  0.0  0.0  1.0  0.0  0.0  0.00000  0.0  0.00000\n",
              "3  0.0  1.0  0.0  0.0  0.0  0.0  0.0  0.00000  0.0  0.00000\n",
              "4  0.0  0.0  0.0  0.0  0.0  0.0  0.0  0.00001  0.0  0.99999"
            ]
          },
          "execution_count": 22,
          "metadata": {},
          "output_type": "execute_result"
        }
      ],
      "source": [
        "pred = model.predict(ind[0:5])\n",
        "pd.DataFrame(pred).round(5)"
      ]
    },
    {
      "cell_type": "code",
      "execution_count": null,
      "id": "enclosed-norway",
      "metadata": {
        "id": "enclosed-norway",
        "outputId": "a387ef89-01f5-469b-895d-0d2a837a6816"
      },
      "outputs": [
        {
          "data": {
            "text/html": [
              "<div>\n",
              "<style scoped>\n",
              "    .dataframe tbody tr th:only-of-type {\n",
              "        vertical-align: middle;\n",
              "    }\n",
              "\n",
              "    .dataframe tbody tr th {\n",
              "        vertical-align: top;\n",
              "    }\n",
              "\n",
              "    .dataframe thead th {\n",
              "        text-align: right;\n",
              "    }\n",
              "</style>\n",
              "<table border=\"1\" class=\"dataframe\">\n",
              "  <thead>\n",
              "    <tr style=\"text-align: right;\">\n",
              "      <th></th>\n",
              "      <th>0</th>\n",
              "      <th>1</th>\n",
              "      <th>2</th>\n",
              "      <th>3</th>\n",
              "      <th>4</th>\n",
              "      <th>5</th>\n",
              "      <th>6</th>\n",
              "      <th>7</th>\n",
              "      <th>8</th>\n",
              "      <th>9</th>\n",
              "    </tr>\n",
              "  </thead>\n",
              "  <tbody>\n",
              "    <tr>\n",
              "      <th>0</th>\n",
              "      <td>0</td>\n",
              "      <td>0</td>\n",
              "      <td>0</td>\n",
              "      <td>0</td>\n",
              "      <td>0</td>\n",
              "      <td>1</td>\n",
              "      <td>0</td>\n",
              "      <td>0</td>\n",
              "      <td>0</td>\n",
              "      <td>0</td>\n",
              "    </tr>\n",
              "    <tr>\n",
              "      <th>1</th>\n",
              "      <td>1</td>\n",
              "      <td>0</td>\n",
              "      <td>0</td>\n",
              "      <td>0</td>\n",
              "      <td>0</td>\n",
              "      <td>0</td>\n",
              "      <td>0</td>\n",
              "      <td>0</td>\n",
              "      <td>0</td>\n",
              "      <td>0</td>\n",
              "    </tr>\n",
              "    <tr>\n",
              "      <th>2</th>\n",
              "      <td>0</td>\n",
              "      <td>0</td>\n",
              "      <td>0</td>\n",
              "      <td>0</td>\n",
              "      <td>1</td>\n",
              "      <td>0</td>\n",
              "      <td>0</td>\n",
              "      <td>0</td>\n",
              "      <td>0</td>\n",
              "      <td>0</td>\n",
              "    </tr>\n",
              "    <tr>\n",
              "      <th>3</th>\n",
              "      <td>0</td>\n",
              "      <td>1</td>\n",
              "      <td>0</td>\n",
              "      <td>0</td>\n",
              "      <td>0</td>\n",
              "      <td>0</td>\n",
              "      <td>0</td>\n",
              "      <td>0</td>\n",
              "      <td>0</td>\n",
              "      <td>0</td>\n",
              "    </tr>\n",
              "    <tr>\n",
              "      <th>4</th>\n",
              "      <td>0</td>\n",
              "      <td>0</td>\n",
              "      <td>0</td>\n",
              "      <td>0</td>\n",
              "      <td>0</td>\n",
              "      <td>0</td>\n",
              "      <td>0</td>\n",
              "      <td>0</td>\n",
              "      <td>0</td>\n",
              "      <td>1</td>\n",
              "    </tr>\n",
              "  </tbody>\n",
              "</table>\n",
              "</div>"
            ],
            "text/plain": [
              "   0  1  2  3  4  5  6  7  8  9\n",
              "0  0  0  0  0  0  1  0  0  0  0\n",
              "1  1  0  0  0  0  0  0  0  0  0\n",
              "2  0  0  0  0  1  0  0  0  0  0\n",
              "3  0  1  0  0  0  0  0  0  0  0\n",
              "4  0  0  0  0  0  0  0  0  0  1"
            ]
          },
          "execution_count": 23,
          "metadata": {},
          "output_type": "execute_result"
        }
      ],
      "source": [
        "pd.DataFrame(dep[0:5]).round(5)"
      ]
    },
    {
      "cell_type": "markdown",
      "id": "charitable-limitation",
      "metadata": {
        "id": "charitable-limitation"
      },
      "source": [
        "## with flatten"
      ]
    },
    {
      "cell_type": "code",
      "execution_count": null,
      "id": "polyphonic-kazakhstan",
      "metadata": {
        "id": "polyphonic-kazakhstan",
        "outputId": "aca83f39-2479-4e5a-f9b8-5dbcb33ecebf"
      },
      "outputs": [
        {
          "name": "stdout",
          "output_type": "stream",
          "text": [
            "(60000, 28, 28) (60000,)\n",
            "(60000, 28, 28) (60000, 10)\n"
          ]
        }
      ],
      "source": [
        "(ind, dep), _ = tf.keras.datasets.mnist.load_data()\n",
        "print(ind.shape, dep.shape)\n",
        "# ind = ind.reshape(60000,784)\n",
        "dep = pd.get_dummies(dep)  # 원핫 인코딩\n",
        "print(ind.shape, dep.shape)"
      ]
    },
    {
      "cell_type": "code",
      "execution_count": null,
      "id": "modular-samoa",
      "metadata": {
        "id": "modular-samoa"
      },
      "outputs": [],
      "source": [
        "# 모델 만들기\n",
        "X = tf.keras.layers.Input(shape=[28,28])\n",
        "H = tf.keras.layers.Flatten()(X)\n",
        "H = tf.keras.layers.Dense(84,activation = 'swish')(H)\n",
        "Y = tf.keras.layers.Dense(10, activation = 'softmax')(H)\n",
        "model = tf.keras.models.Model(X,Y)\n",
        "model.compile(loss='categorical_crossentropy', metrics = 'accuracy')"
      ]
    },
    {
      "cell_type": "code",
      "execution_count": null,
      "id": "designing-bunny",
      "metadata": {
        "id": "designing-bunny",
        "outputId": "a8ae4f96-fa24-485a-f121-10f0def28e93"
      },
      "outputs": [
        {
          "name": "stdout",
          "output_type": "stream",
          "text": [
            "Epoch 1/10\n",
            "1875/1875 [==============================] - 2s 1ms/step - loss: 2.0541 - accuracy: 0.8521\n",
            "Epoch 2/10\n",
            "1875/1875 [==============================] - 2s 845us/step - loss: 0.5505 - accuracy: 0.9171\n",
            "Epoch 3/10\n",
            "1875/1875 [==============================] - 2s 924us/step - loss: 0.4598 - accuracy: 0.9306\n",
            "Epoch 4/10\n",
            "1875/1875 [==============================] - 2s 1ms/step - loss: 0.4441 - accuracy: 0.9366\n",
            "Epoch 5/10\n",
            "1875/1875 [==============================] - 2s 1ms/step - loss: 0.3869 - accuracy: 0.9428\n",
            "Epoch 6/10\n",
            "1875/1875 [==============================] - 2s 1ms/step - loss: 0.3852 - accuracy: 0.9448\n",
            "Epoch 7/10\n",
            "1875/1875 [==============================] - 3s 2ms/step - loss: 0.3607 - accuracy: 0.9471\n",
            "Epoch 8/10\n",
            "1875/1875 [==============================] - 2s 1ms/step - loss: 0.3730 - accuracy: 0.9504\n",
            "Epoch 9/10\n",
            "1875/1875 [==============================] - 2s 1ms/step - loss: 0.3597 - accuracy: 0.9515\n",
            "Epoch 10/10\n",
            "1875/1875 [==============================] - 2s 1ms/step - loss: 0.3431 - accuracy: 0.9532\n"
          ]
        },
        {
          "data": {
            "text/plain": [
              "<tensorflow.python.keras.callbacks.History at 0x1a27c3f9a60>"
            ]
          },
          "execution_count": 26,
          "metadata": {},
          "output_type": "execute_result"
        }
      ],
      "source": [
        "# 모델 학습\n",
        "model.fit(ind, dep, epochs=10)"
      ]
    },
    {
      "cell_type": "markdown",
      "id": "arranged-disclaimer",
      "metadata": {
        "id": "arranged-disclaimer"
      },
      "source": [
        "# Conv2D\n",
        "1. 필터셋을 몇 개 사용할 것인가\n",
        "2. 필터셋의 사이즈를 얼마로 할 것인가\n",
        "### ex) \n",
        "#### H = tf.keras.layers.Conv2D(3, kernel_size=5, activation='swish')(X)\n",
        "#### 필터셋 개수 -> 3개, 3개의 특징맵을 만든다고 할 수 있다.\n",
        "#### 필터셋 사이즈 -> 5\n",
        "#### 이 이후에, flatten layer를 통해 픽셀 단위로 한 줄로 펼친 후 학습을 시작한다.\n",
        "#### shape=[28,28,1]\n",
        "##### -> 칼라 이미지는 3차원의 형태를 가지고 있다. 따라서 이에 따라 흑백 또한 3차원으로 설정을 한 후 학습을 한다."
      ]
    },
    {
      "cell_type": "markdown",
      "id": "quantitative-camel",
      "metadata": {
        "id": "quantitative-camel"
      },
      "source": [
        "# 필터의 이해\n",
        "1. 필터셋은 3차원 형태로 된 가중치 모음\n",
        "2. 필터셋 하나는 앞선 레이어의 결과인 \"특정맵\" 전체를 본다.\n",
        "3. 필터셋 개수만큼 특징맵을 만든다.\n",
        "## Conv2D(3, kernel_size=5, activation='swish \n",
        "## Conv2D(6, kernel_size=5, activation='swish')"
      ]
    },
    {
      "cell_type": "markdown",
      "id": "contained-sapphire",
      "metadata": {
        "id": "contained-sapphire"
      },
      "source": [
        "# CNN 연산\n",
        "## (8,8,1) 이미지에 (3,3,1) 필터를 씌우면 결과는\n",
        "## (8-3+1,8-3+1)이 나온다."
      ]
    },
    {
      "cell_type": "markdown",
      "id": "helpful-heading",
      "metadata": {
        "id": "helpful-heading"
      },
      "source": [
        "# Convolution Layer"
      ]
    },
    {
      "cell_type": "code",
      "execution_count": null,
      "id": "prescribed-stereo",
      "metadata": {
        "id": "prescribed-stereo",
        "outputId": "001504c4-d6ce-4809-fd82-3742aa091f15"
      },
      "outputs": [
        {
          "name": "stdout",
          "output_type": "stream",
          "text": [
            "(60000, 28, 28) (60000,)\n",
            "(60000, 28, 28, 1) (60000, 10)\n"
          ]
        }
      ],
      "source": [
        "(ind, dep), _ = tf.keras.datasets.mnist.load_data()\n",
        "print(ind.shape, dep.shape)\n",
        "\n",
        "ind = ind.reshape(60000,28,28,1)\n",
        "dep = pd.get_dummies(dep)\n",
        "print(ind.shape, dep.shape)"
      ]
    },
    {
      "cell_type": "code",
      "execution_count": null,
      "id": "civil-chambers",
      "metadata": {
        "id": "civil-chambers"
      },
      "outputs": [],
      "source": [
        "# 모델 생성\n",
        "X = tf.keras.layers.Input(shape=[28,28,1])\n",
        "H = tf.keras.layers.Conv2D(3,kernel_size=5, activation='swish')(X)\n",
        "H = tf.keras.layers.Conv2D(6,kernel_size=5, activation='swish')(H)\n",
        "H = tf.keras.layers.Flatten()(H)\n",
        "H = tf.keras.layers.Dense(84,activation='swish')(H)\n",
        "Y = tf.keras.layers.Dense(10,activation='softmax')(H)\n",
        "\n",
        "model = tf.keras.models.Model(X,Y)\n",
        "model.compile(loss='categorical_crossentropy',metrics='accuracy')"
      ]
    },
    {
      "cell_type": "code",
      "execution_count": null,
      "id": "dramatic-beaver",
      "metadata": {
        "id": "dramatic-beaver",
        "outputId": "74af802d-0314-4efd-8afe-cbf691e6fd5e"
      },
      "outputs": [
        {
          "name": "stdout",
          "output_type": "stream",
          "text": [
            "Epoch 1/10\n",
            "1875/1875 [==============================] - 21s 11ms/step - loss: 0.8315 - accuracy: 0.9252\n",
            "Epoch 2/10\n",
            "1875/1875 [==============================] - 22s 12ms/step - loss: 0.0973 - accuracy: 0.9735\n",
            "Epoch 3/10\n",
            "1875/1875 [==============================] - 22s 12ms/step - loss: 0.0653 - accuracy: 0.9815\n",
            "Epoch 4/10\n",
            "1875/1875 [==============================] - 22s 12ms/step - loss: 0.0510 - accuracy: 0.9855\n",
            "Epoch 5/10\n",
            "1875/1875 [==============================] - 21s 11ms/step - loss: 0.0425 - accuracy: 0.9878\n",
            "Epoch 6/10\n",
            "1875/1875 [==============================] - 21s 11ms/step - loss: 0.0341 - accuracy: 0.9902\n",
            "Epoch 7/10\n",
            "1875/1875 [==============================] - 22s 12ms/step - loss: 0.0306 - accuracy: 0.9914\n",
            "Epoch 8/10\n",
            "1875/1875 [==============================] - 22s 12ms/step - loss: 0.0273 - accuracy: 0.9923\n",
            "Epoch 9/10\n",
            "1875/1875 [==============================] - 25s 14ms/step - loss: 0.0250 - accuracy: 0.9929\n",
            "Epoch 10/10\n",
            "1875/1875 [==============================] - 22s 12ms/step - loss: 0.0203 - accuracy: 0.9944\n"
          ]
        },
        {
          "data": {
            "text/plain": [
              "<tensorflow.python.keras.callbacks.History at 0x1a27acc19d0>"
            ]
          },
          "execution_count": 31,
          "metadata": {},
          "output_type": "execute_result"
        }
      ],
      "source": [
        "# 모델 학습\n",
        "model.fit(ind,dep,epochs=10)"
      ]
    },
    {
      "cell_type": "code",
      "execution_count": null,
      "id": "forbidden-cisco",
      "metadata": {
        "id": "forbidden-cisco",
        "outputId": "3ffb6352-5b50-4bac-8d7c-94be34b0a143"
      },
      "outputs": [
        {
          "data": {
            "text/html": [
              "<div>\n",
              "<style scoped>\n",
              "    .dataframe tbody tr th:only-of-type {\n",
              "        vertical-align: middle;\n",
              "    }\n",
              "\n",
              "    .dataframe tbody tr th {\n",
              "        vertical-align: top;\n",
              "    }\n",
              "\n",
              "    .dataframe thead th {\n",
              "        text-align: right;\n",
              "    }\n",
              "</style>\n",
              "<table border=\"1\" class=\"dataframe\">\n",
              "  <thead>\n",
              "    <tr style=\"text-align: right;\">\n",
              "      <th></th>\n",
              "      <th>0</th>\n",
              "      <th>1</th>\n",
              "      <th>2</th>\n",
              "      <th>3</th>\n",
              "      <th>4</th>\n",
              "      <th>5</th>\n",
              "      <th>6</th>\n",
              "      <th>7</th>\n",
              "      <th>8</th>\n",
              "      <th>9</th>\n",
              "    </tr>\n",
              "  </thead>\n",
              "  <tbody>\n",
              "    <tr>\n",
              "      <th>0</th>\n",
              "      <td>0.0</td>\n",
              "      <td>0.0</td>\n",
              "      <td>0.0</td>\n",
              "      <td>0.03</td>\n",
              "      <td>0.0</td>\n",
              "      <td>0.97</td>\n",
              "      <td>0.0</td>\n",
              "      <td>0.0</td>\n",
              "      <td>0.0</td>\n",
              "      <td>0.0</td>\n",
              "    </tr>\n",
              "    <tr>\n",
              "      <th>1</th>\n",
              "      <td>1.0</td>\n",
              "      <td>0.0</td>\n",
              "      <td>0.0</td>\n",
              "      <td>0.00</td>\n",
              "      <td>0.0</td>\n",
              "      <td>0.00</td>\n",
              "      <td>0.0</td>\n",
              "      <td>0.0</td>\n",
              "      <td>0.0</td>\n",
              "      <td>0.0</td>\n",
              "    </tr>\n",
              "    <tr>\n",
              "      <th>2</th>\n",
              "      <td>0.0</td>\n",
              "      <td>0.0</td>\n",
              "      <td>0.0</td>\n",
              "      <td>0.00</td>\n",
              "      <td>1.0</td>\n",
              "      <td>0.00</td>\n",
              "      <td>0.0</td>\n",
              "      <td>0.0</td>\n",
              "      <td>0.0</td>\n",
              "      <td>0.0</td>\n",
              "    </tr>\n",
              "    <tr>\n",
              "      <th>3</th>\n",
              "      <td>0.0</td>\n",
              "      <td>1.0</td>\n",
              "      <td>0.0</td>\n",
              "      <td>0.00</td>\n",
              "      <td>0.0</td>\n",
              "      <td>0.00</td>\n",
              "      <td>0.0</td>\n",
              "      <td>0.0</td>\n",
              "      <td>0.0</td>\n",
              "      <td>0.0</td>\n",
              "    </tr>\n",
              "    <tr>\n",
              "      <th>4</th>\n",
              "      <td>0.0</td>\n",
              "      <td>0.0</td>\n",
              "      <td>0.0</td>\n",
              "      <td>0.00</td>\n",
              "      <td>0.0</td>\n",
              "      <td>0.00</td>\n",
              "      <td>0.0</td>\n",
              "      <td>0.0</td>\n",
              "      <td>0.0</td>\n",
              "      <td>1.0</td>\n",
              "    </tr>\n",
              "  </tbody>\n",
              "</table>\n",
              "</div>"
            ],
            "text/plain": [
              "     0    1    2     3    4     5    6    7    8    9\n",
              "0  0.0  0.0  0.0  0.03  0.0  0.97  0.0  0.0  0.0  0.0\n",
              "1  1.0  0.0  0.0  0.00  0.0  0.00  0.0  0.0  0.0  0.0\n",
              "2  0.0  0.0  0.0  0.00  1.0  0.00  0.0  0.0  0.0  0.0\n",
              "3  0.0  1.0  0.0  0.00  0.0  0.00  0.0  0.0  0.0  0.0\n",
              "4  0.0  0.0  0.0  0.00  0.0  0.00  0.0  0.0  0.0  1.0"
            ]
          },
          "execution_count": 32,
          "metadata": {},
          "output_type": "execute_result"
        }
      ],
      "source": [
        "# 모델 이용\n",
        "pred = model.predict(ind[0:5])\n",
        "pd.DataFrame(pred).round(2)"
      ]
    },
    {
      "cell_type": "code",
      "execution_count": null,
      "id": "previous-relevance",
      "metadata": {
        "id": "previous-relevance",
        "outputId": "b0b2d838-84d3-4d32-8d80-1085a08c7beb"
      },
      "outputs": [
        {
          "data": {
            "text/html": [
              "<div>\n",
              "<style scoped>\n",
              "    .dataframe tbody tr th:only-of-type {\n",
              "        vertical-align: middle;\n",
              "    }\n",
              "\n",
              "    .dataframe tbody tr th {\n",
              "        vertical-align: top;\n",
              "    }\n",
              "\n",
              "    .dataframe thead th {\n",
              "        text-align: right;\n",
              "    }\n",
              "</style>\n",
              "<table border=\"1\" class=\"dataframe\">\n",
              "  <thead>\n",
              "    <tr style=\"text-align: right;\">\n",
              "      <th></th>\n",
              "      <th>0</th>\n",
              "      <th>1</th>\n",
              "      <th>2</th>\n",
              "      <th>3</th>\n",
              "      <th>4</th>\n",
              "      <th>5</th>\n",
              "      <th>6</th>\n",
              "      <th>7</th>\n",
              "      <th>8</th>\n",
              "      <th>9</th>\n",
              "    </tr>\n",
              "  </thead>\n",
              "  <tbody>\n",
              "    <tr>\n",
              "      <th>0</th>\n",
              "      <td>0</td>\n",
              "      <td>0</td>\n",
              "      <td>0</td>\n",
              "      <td>0</td>\n",
              "      <td>0</td>\n",
              "      <td>1</td>\n",
              "      <td>0</td>\n",
              "      <td>0</td>\n",
              "      <td>0</td>\n",
              "      <td>0</td>\n",
              "    </tr>\n",
              "    <tr>\n",
              "      <th>1</th>\n",
              "      <td>1</td>\n",
              "      <td>0</td>\n",
              "      <td>0</td>\n",
              "      <td>0</td>\n",
              "      <td>0</td>\n",
              "      <td>0</td>\n",
              "      <td>0</td>\n",
              "      <td>0</td>\n",
              "      <td>0</td>\n",
              "      <td>0</td>\n",
              "    </tr>\n",
              "    <tr>\n",
              "      <th>2</th>\n",
              "      <td>0</td>\n",
              "      <td>0</td>\n",
              "      <td>0</td>\n",
              "      <td>0</td>\n",
              "      <td>1</td>\n",
              "      <td>0</td>\n",
              "      <td>0</td>\n",
              "      <td>0</td>\n",
              "      <td>0</td>\n",
              "      <td>0</td>\n",
              "    </tr>\n",
              "    <tr>\n",
              "      <th>3</th>\n",
              "      <td>0</td>\n",
              "      <td>1</td>\n",
              "      <td>0</td>\n",
              "      <td>0</td>\n",
              "      <td>0</td>\n",
              "      <td>0</td>\n",
              "      <td>0</td>\n",
              "      <td>0</td>\n",
              "      <td>0</td>\n",
              "      <td>0</td>\n",
              "    </tr>\n",
              "    <tr>\n",
              "      <th>4</th>\n",
              "      <td>0</td>\n",
              "      <td>0</td>\n",
              "      <td>0</td>\n",
              "      <td>0</td>\n",
              "      <td>0</td>\n",
              "      <td>0</td>\n",
              "      <td>0</td>\n",
              "      <td>0</td>\n",
              "      <td>0</td>\n",
              "      <td>1</td>\n",
              "    </tr>\n",
              "  </tbody>\n",
              "</table>\n",
              "</div>"
            ],
            "text/plain": [
              "   0  1  2  3  4  5  6  7  8  9\n",
              "0  0  0  0  0  0  1  0  0  0  0\n",
              "1  1  0  0  0  0  0  0  0  0  0\n",
              "2  0  0  0  0  1  0  0  0  0  0\n",
              "3  0  1  0  0  0  0  0  0  0  0\n",
              "4  0  0  0  0  0  0  0  0  0  1"
            ]
          },
          "execution_count": 33,
          "metadata": {},
          "output_type": "execute_result"
        }
      ],
      "source": [
        "dep[0:5]"
      ]
    },
    {
      "cell_type": "code",
      "execution_count": null,
      "id": "complex-gardening",
      "metadata": {
        "id": "complex-gardening",
        "outputId": "07a77946-1756-4d93-96a7-6d443bd66a84"
      },
      "outputs": [
        {
          "name": "stdout",
          "output_type": "stream",
          "text": [
            "Model: \"model_2\"\n",
            "_________________________________________________________________\n",
            "Layer (type)                 Output Shape              Param #   \n",
            "=================================================================\n",
            "input_6 (InputLayer)         [(None, 28, 28, 1)]       0         \n",
            "_________________________________________________________________\n",
            "conv2d_2 (Conv2D)            (None, 24, 24, 3)         78        \n",
            "_________________________________________________________________\n",
            "conv2d_3 (Conv2D)            (None, 20, 20, 6)         456       \n",
            "_________________________________________________________________\n",
            "flatten_2 (Flatten)          (None, 2400)              0         \n",
            "_________________________________________________________________\n",
            "dense_6 (Dense)              (None, 84)                201684    \n",
            "_________________________________________________________________\n",
            "dense_7 (Dense)              (None, 10)                850       \n",
            "=================================================================\n",
            "Total params: 203,068\n",
            "Trainable params: 203,068\n",
            "Non-trainable params: 0\n",
            "_________________________________________________________________\n"
          ]
        }
      ],
      "source": [
        "model.summary() # 모양 확인"
      ]
    },
    {
      "cell_type": "markdown",
      "id": "final-freeware",
      "metadata": {
        "id": "final-freeware"
      },
      "source": [
        "# 위의 결과 요약\n",
        "## flatten의 2400 = 20 * 20* 6\n",
        "## dense_6의 84개는 84개의 수식이 있다는 의미\n",
        "## 84*(2400+1) -> 201684 (가중치 개수), 1은 bias\n",
        "\n",
        "### 가중치 개수를 줄이기 위해 pooling을 사용한다\n",
        "### 여러 pooling이 있는데, MaxPooling은 각 필터에 해당하는 픽셀에서의 가장 큰 값을 추출하여 이미지를 추출한다. \n",
        "### 값이 크다는 의미는 필터로 찾으려는 특징이 많이 나타난 부분이므로, 그러한 부분들만 추출하는 방법이다. 즉, 유의미한 부분만 남기면서 사이즈를 줄이는 방법이다."
      ]
    },
    {
      "cell_type": "markdown",
      "id": "statistical-howard",
      "metadata": {
        "id": "statistical-howard"
      },
      "source": [
        "# Pooling Layer"
      ]
    },
    {
      "cell_type": "code",
      "execution_count": null,
      "id": "beautiful-alberta",
      "metadata": {
        "id": "beautiful-alberta",
        "outputId": "3b095cb8-2e50-4d6b-f03d-ccc27788e8a2"
      },
      "outputs": [
        {
          "name": "stdout",
          "output_type": "stream",
          "text": [
            "(60000, 28, 28) (60000,)\n",
            "(60000, 28, 28, 1) (60000, 10)\n"
          ]
        }
      ],
      "source": [
        "(ind, dep), _ = tf.keras.datasets.mnist.load_data()\n",
        "print(ind.shape, dep.shape)\n",
        "\n",
        "ind = ind.reshape(60000,28,28,1)\n",
        "dep = pd.get_dummies(dep)\n",
        "print(ind.shape, dep.shape)"
      ]
    },
    {
      "cell_type": "code",
      "execution_count": null,
      "id": "committed-jungle",
      "metadata": {
        "id": "committed-jungle"
      },
      "outputs": [],
      "source": [
        "# CNN 모델 생성\n",
        "X = tf.keras.layers.Input(shape=[28,28,1])\n",
        "\n",
        "H = tf.keras.layers.Conv2D(3,kernel_size=5, activation='swish')(X)\n",
        "H = tf.keras.layers.MaxPool2D()(H)\n",
        "\n",
        "H = tf.keras.layers.Conv2D(6,kernel_size=5, activation='swish')(H)\n",
        "H = tf.keras.layers.MaxPool2D()(H)\n",
        "\n",
        "H = tf.keras.layers.Flatten()(H)\n",
        "H = tf.keras.layers.Dense(84,activation='swish')(H)\n",
        "Y = tf.keras.layers.Dense(10,activation='softmax')(H)\n",
        "\n",
        "model = tf.keras.models.Model(X,Y)\n",
        "model.compile(loss='categorical_crossentropy',metrics='accuracy')"
      ]
    },
    {
      "cell_type": "code",
      "execution_count": null,
      "id": "running-quebec",
      "metadata": {
        "id": "running-quebec",
        "outputId": "1c3407bc-22e3-4394-edc7-26a4ea20dd50"
      },
      "outputs": [
        {
          "name": "stdout",
          "output_type": "stream",
          "text": [
            "Epoch 1/10\n",
            "1875/1875 [==============================] - 13s 6ms/step - loss: 0.6889 - accuracy: 0.8719\n",
            "Epoch 2/10\n",
            "1875/1875 [==============================] - 13s 7ms/step - loss: 0.1299 - accuracy: 0.9608\n",
            "Epoch 3/10\n",
            "1875/1875 [==============================] - 12s 6ms/step - loss: 0.1019 - accuracy: 0.9696\n",
            "Epoch 4/10\n",
            "1875/1875 [==============================] - 11s 6ms/step - loss: 0.0895 - accuracy: 0.9730\n",
            "Epoch 5/10\n",
            "1875/1875 [==============================] - 11s 6ms/step - loss: 0.0802 - accuracy: 0.9758\n",
            "Epoch 6/10\n",
            "1875/1875 [==============================] - 11s 6ms/step - loss: 0.0770 - accuracy: 0.9786\n",
            "Epoch 7/10\n",
            "1875/1875 [==============================] - 12s 6ms/step - loss: 0.0702 - accuracy: 0.9797\n",
            "Epoch 8/10\n",
            "1875/1875 [==============================] - 11s 6ms/step - loss: 0.0690 - accuracy: 0.9794\n",
            "Epoch 9/10\n",
            "1875/1875 [==============================] - 12s 6ms/step - loss: 0.0657 - accuracy: 0.9808\n",
            "Epoch 10/10\n",
            "1875/1875 [==============================] - 15s 8ms/step - loss: 0.0633 - accuracy: 0.9814\n"
          ]
        },
        {
          "data": {
            "text/plain": [
              "<tensorflow.python.keras.callbacks.History at 0x1a27c480610>"
            ]
          },
          "execution_count": 38,
          "metadata": {},
          "output_type": "execute_result"
        }
      ],
      "source": [
        "# 모델 학습\n",
        "model.fit(ind,dep,epochs=10)"
      ]
    },
    {
      "cell_type": "code",
      "execution_count": null,
      "id": "surface-geneva",
      "metadata": {
        "id": "surface-geneva",
        "outputId": "efaeeef4-2377-4a81-d581-aecdff8f23aa"
      },
      "outputs": [
        {
          "name": "stdout",
          "output_type": "stream",
          "text": [
            "Model: \"model_4\"\n",
            "_________________________________________________________________\n",
            "Layer (type)                 Output Shape              Param #   \n",
            "=================================================================\n",
            "input_8 (InputLayer)         [(None, 28, 28, 1)]       0         \n",
            "_________________________________________________________________\n",
            "conv2d_6 (Conv2D)            (None, 24, 24, 3)         78        \n",
            "_________________________________________________________________\n",
            "max_pooling2d (MaxPooling2D) (None, 12, 12, 3)         0         \n",
            "_________________________________________________________________\n",
            "conv2d_7 (Conv2D)            (None, 8, 8, 6)           456       \n",
            "_________________________________________________________________\n",
            "max_pooling2d_1 (MaxPooling2 (None, 4, 4, 6)           0         \n",
            "_________________________________________________________________\n",
            "flatten_4 (Flatten)          (None, 96)                0         \n",
            "_________________________________________________________________\n",
            "dense_10 (Dense)             (None, 84)                8148      \n",
            "_________________________________________________________________\n",
            "dense_11 (Dense)             (None, 10)                850       \n",
            "=================================================================\n",
            "Total params: 9,532\n",
            "Trainable params: 9,532\n",
            "Non-trainable params: 0\n",
            "_________________________________________________________________\n"
          ]
        }
      ],
      "source": [
        "model.summary()"
      ]
    },
    {
      "cell_type": "markdown",
      "id": "seventh-links",
      "metadata": {
        "id": "seventh-links"
      },
      "source": [
        "# LeNet 5"
      ]
    },
    {
      "cell_type": "code",
      "execution_count": null,
      "id": "tamil-radar",
      "metadata": {
        "id": "tamil-radar"
      },
      "outputs": [],
      "source": [
        "# 데이터 로딩\n",
        "(ind,dep), _ = tf.keras.datasets.mnist.load_data()\n",
        "ind = ind.reshape(60000,28,28,1)\n",
        "dep = pd.get_dummies(dep)"
      ]
    },
    {
      "cell_type": "code",
      "execution_count": null,
      "id": "challenging-cyprus",
      "metadata": {
        "id": "challenging-cyprus"
      },
      "outputs": [],
      "source": [
        "# 모델 생성\n",
        "X = tf.keras.layers.Input(shape=[28,28,1])\n",
        "\n",
        "H = tf.keras.layers.Conv2D(6,kernel_size=5,padding='same',activation='swish')(X)\n",
        "H = tf.keras.layers.MaxPool2D()(H)\n",
        "\n",
        "H = tf.keras.layers.Conv2D(16,kernel_size=5,activation='swish')(H)\n",
        "H = tf.keras.layers.MaxPool2D()(H)\n",
        "\n",
        "H = tf.keras.layers.Flatten()(H)\n",
        "\n",
        "H = tf.keras.layers.Dense(120, activation='swish')(H)\n",
        "H = tf.keras.layers.Dense(84, activation='swish')(H)\n",
        "Y = tf.keras.layers.Dense(10,activation='softmax')(H)\n",
        "\n",
        "model = tf.keras.models.Model(X,Y)\n",
        "model.compile(loss='categorical_crossentropy',metrics='accuracy')"
      ]
    },
    {
      "cell_type": "code",
      "execution_count": null,
      "id": "downtown-distance",
      "metadata": {
        "id": "downtown-distance",
        "outputId": "1ec8ef15-a57f-492d-bac6-39f6599d5e1c"
      },
      "outputs": [
        {
          "name": "stdout",
          "output_type": "stream",
          "text": [
            "1875/1875 [==============================] - 20s 10ms/step - loss: 0.3095 - accuracy: 0.9330\n"
          ]
        },
        {
          "data": {
            "text/plain": [
              "<tensorflow.python.keras.callbacks.History at 0x1a28375c940>"
            ]
          },
          "execution_count": 43,
          "metadata": {},
          "output_type": "execute_result"
        }
      ],
      "source": [
        "model.fit(ind,dep)"
      ]
    },
    {
      "cell_type": "markdown",
      "id": "suited-collaboration",
      "metadata": {
        "id": "suited-collaboration"
      },
      "source": [
        "# Cifar 10"
      ]
    },
    {
      "cell_type": "code",
      "execution_count": null,
      "id": "boxed-involvement",
      "metadata": {
        "id": "boxed-involvement"
      },
      "outputs": [],
      "source": [
        "# 데이터 로딩\n",
        "(ind,dep), _ = tf.keras.datasets.cifar10.load_data()\n",
        "# ind = ind.reshape(60000,28,28,1)\n",
        "dep = pd.get_dummies(dep.reshape(50000))  # mnist 데이터와 달리 1차원 데이터이기 떄문에 reshape 해줘야함"
      ]
    },
    {
      "cell_type": "code",
      "execution_count": null,
      "id": "superb-mambo",
      "metadata": {
        "id": "superb-mambo"
      },
      "outputs": [],
      "source": [
        "# 모델 생성\n",
        "X = tf.keras.layers.Input(shape=[32,32,3])\n",
        "\n",
        "H = tf.keras.layers.Conv2D(6,kernel_size=5,activation='swish')(X)\n",
        "H = tf.keras.layers.MaxPool2D()(H)\n",
        "\n",
        "H = tf.keras.layers.Conv2D(16,kernel_size=5,activation='swish')(H)\n",
        "H = tf.keras.layers.MaxPool2D()(H)\n",
        "\n",
        "H = tf.keras.layers.Flatten()(H)\n",
        "\n",
        "H = tf.keras.layers.Dense(120, activation='swish')(H)\n",
        "H = tf.keras.layers.Dense(84, activation='swish')(H)\n",
        "Y = tf.keras.layers.Dense(10,activation='softmax')(H)\n",
        "\n",
        "model = tf.keras.models.Model(X,Y)\n",
        "model.compile(loss='categorical_crossentropy',metrics='accuracy')"
      ]
    },
    {
      "cell_type": "code",
      "execution_count": null,
      "id": "proud-surgery",
      "metadata": {
        "id": "proud-surgery"
      },
      "outputs": [],
      "source": [
        "# model.fit(ind,dep,epochs=10)"
      ]
    },
    {
      "cell_type": "code",
      "execution_count": null,
      "id": "ethical-explanation",
      "metadata": {
        "id": "ethical-explanation",
        "outputId": "ff346b19-bb86-4be7-c344-09bdd5b4be9a"
      },
      "outputs": [
        {
          "name": "stdout",
          "output_type": "stream",
          "text": [
            "Model: \"model_7\"\n",
            "_________________________________________________________________\n",
            "Layer (type)                 Output Shape              Param #   \n",
            "=================================================================\n",
            "input_11 (InputLayer)        [(None, 32, 32, 3)]       0         \n",
            "_________________________________________________________________\n",
            "conv2d_12 (Conv2D)           (None, 28, 28, 6)         456       \n",
            "_________________________________________________________________\n",
            "max_pooling2d_6 (MaxPooling2 (None, 14, 14, 6)         0         \n",
            "_________________________________________________________________\n",
            "conv2d_13 (Conv2D)           (None, 10, 10, 16)        2416      \n",
            "_________________________________________________________________\n",
            "max_pooling2d_7 (MaxPooling2 (None, 5, 5, 16)          0         \n",
            "_________________________________________________________________\n",
            "flatten_7 (Flatten)          (None, 400)               0         \n",
            "_________________________________________________________________\n",
            "dense_18 (Dense)             (None, 120)               48120     \n",
            "_________________________________________________________________\n",
            "dense_19 (Dense)             (None, 84)                10164     \n",
            "_________________________________________________________________\n",
            "dense_20 (Dense)             (None, 10)                850       \n",
            "=================================================================\n",
            "Total params: 62,006\n",
            "Trainable params: 62,006\n",
            "Non-trainable params: 0\n",
            "_________________________________________________________________\n"
          ]
        }
      ],
      "source": [
        "model.summary()"
      ]
    },
    {
      "cell_type": "markdown",
      "id": "forty-tobacco",
      "metadata": {
        "id": "forty-tobacco"
      },
      "source": [
        "# 이미지 사용"
      ]
    },
    {
      "cell_type": "code",
      "execution_count": null,
      "id": "banned-patent",
      "metadata": {
        "id": "banned-patent"
      },
      "outputs": [],
      "source": [
        ""
      ]
    }
  ],
  "metadata": {
    "kernelspec": {
      "display_name": "Python 3",
      "language": "python",
      "name": "python3"
    },
    "language_info": {
      "codemirror_mode": {
        "name": "ipython",
        "version": 3
      },
      "file_extension": ".py",
      "mimetype": "text/x-python",
      "name": "python",
      "nbconvert_exporter": "python",
      "pygments_lexer": "ipython3",
      "version": "3.9.1"
    },
    "colab": {
      "name": "tensorflow_102.ipynb",
      "provenance": [],
      "collapsed_sections": []
    }
  },
  "nbformat": 4,
  "nbformat_minor": 5
}